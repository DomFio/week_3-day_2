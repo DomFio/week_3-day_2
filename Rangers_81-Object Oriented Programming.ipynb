{
 "cells": [
  {
   "cell_type": "markdown",
   "metadata": {},
   "source": [
    "# Object-Oriented-Programming (OOP)"
   ]
  },
  {
   "cell_type": "markdown",
   "metadata": {},
   "source": [
    "## Tasks Today:\n",
    "\n",
    "   \n",
    "\n",
    "1) <b>Creating a Class (Initializing/Declaring)</b> <br>\n",
    "2) <b>Using a Class (Instantiating)</b> <br>\n",
    " &nbsp;&nbsp;&nbsp;&nbsp; a) Creating One Instance <br>\n",
    " &nbsp;&nbsp;&nbsp;&nbsp; b) Creating Multiple Instances <br>\n",
    " &nbsp;&nbsp;&nbsp;&nbsp; c) In-Class Exercise #1 - Create a Class 'Car' and instantiate three different makes of cars <br>\n",
    "3) <b>The \\__init\\__() Method</b> <br>\n",
    " &nbsp;&nbsp;&nbsp;&nbsp; a) The 'self' Attribute <br>\n",
    "4) <b>Class Attributes</b> <br>\n",
    " &nbsp;&nbsp;&nbsp;&nbsp; a) Initializing Attributes <br>\n",
    " &nbsp;&nbsp;&nbsp;&nbsp; b) Setting an Attribute Outside of the \\__init\\__() Method <br>\n",
    " &nbsp;&nbsp;&nbsp;&nbsp; c) Setting Defaults for Attributes <br>\n",
    " &nbsp;&nbsp;&nbsp;&nbsp; d) Accessing Class Attributes <br>\n",
    " &nbsp;&nbsp;&nbsp;&nbsp; e) Changing Class Attributes <br>\n",
    " &nbsp;&nbsp;&nbsp;&nbsp; f) In-Class Exercise #2 - Add a color and wheels attribute to your 'Car' class <br>\n",
    "5) <b>Class Methods</b> <br>\n",
    " &nbsp;&nbsp;&nbsp;&nbsp; a) Creating <br>\n",
    " &nbsp;&nbsp;&nbsp;&nbsp; b) Calling <br>\n",
    " &nbsp;&nbsp;&nbsp;&nbsp; c) Modifying an Attribute's Value Through a Method <br>\n",
    " &nbsp;&nbsp;&nbsp;&nbsp; d) Incrementing an Attribute's Value Through a Method <br>\n",
    " &nbsp;&nbsp;&nbsp;&nbsp; e) In-Class Exercise #3 - Add a method that prints the cars color and wheel number, then call them <br>\n",
    "6) <b>Inheritance</b> <br>\n",
    " &nbsp;&nbsp;&nbsp;&nbsp; a) Syntax for Inheriting from a Parent Class <br>\n",
    " &nbsp;&nbsp;&nbsp;&nbsp; b) The \\__init\\__() Method for a Child Class (super()) <br>\n",
    " &nbsp;&nbsp;&nbsp;&nbsp; c) Defining Attributes and Methods for the Child Class <br>\n",
    " &nbsp;&nbsp;&nbsp;&nbsp; d) Method Overriding <br>\n",
    " &nbsp;&nbsp;&nbsp;&nbsp; e) In-Class Exercise #4 - Create a class 'Ford' that inherits from 'Car' class and initialize it as a Blue Ford Explorer with 4 wheels using the super() method <br>\n",
    "7) <b>Classes as Attributes</b> <br>\n",
    "8) <b>Exercises</b> <br>\n",
    " &nbsp;&nbsp;&nbsp;&nbsp; a) Exercise #1 - Turn the shopping cart program from last week into an object-oriented program <br>"
   ]
  },
  {
   "cell_type": "markdown",
   "metadata": {},
   "source": [
    "## Creating a Class (Initializing/Declaring)\n",
    "<p>When creating a class, function, or even a variable you are initializing that object. Initializing and Declaring occur at the same time in Python, whereas in lower level languages you have to declare an object before initializing it. This is the first step in the process of using a class.</p>"
   ]
  },
  {
   "cell_type": "code",
   "execution_count": 3,
   "metadata": {},
   "outputs": [],
   "source": [
    "class Car():\n",
    "    wheels = 4\n",
    "    color = 'blue'\n",
    "\n"
   ]
  },
  {
   "cell_type": "markdown",
   "metadata": {},
   "source": [
    "## Using a Class (Instantiating)\n",
    "<p>The process of creating a class is called <i>Instantiating</i>. Each time you create a variable of that type of class, it is referred to as an <i>Instance</i> of that class. This is the second step in the process of using a class.</p>"
   ]
  },
  {
   "cell_type": "markdown",
   "metadata": {},
   "source": [
    "##### Creating One Instance"
   ]
  },
  {
   "cell_type": "code",
   "execution_count": null,
   "metadata": {},
   "outputs": [],
   "source": [
    "ford = Car()\n"
   ]
  },
  {
   "cell_type": "markdown",
   "metadata": {},
   "source": [
    "##### Creating Multiple Instances"
   ]
  },
  {
   "cell_type": "code",
   "execution_count": 4,
   "metadata": {},
   "outputs": [
    {
     "name": "stdout",
     "output_type": "stream",
     "text": [
      "blue\n",
      "4\n",
      "blue\n",
      "4\n"
     ]
    }
   ],
   "source": [
    "mazda = Car()\n",
    "nissan = Car()\n",
    "geo = Car()\n",
    "mercades = Car()\n",
    "\n",
    "print(mazda.color)\n",
    "print(nissan.wheels)\n",
    "print(geo.color)\n",
    "print(mercades.wheels)\n"
   ]
  },
  {
   "cell_type": "markdown",
   "metadata": {},
   "source": [
    "##### In-Class Exercise #1 - Create a Class 'Car' and Instantiate three different makes of cars"
   ]
  },
  {
   "cell_type": "code",
   "execution_count": 8,
   "metadata": {},
   "outputs": [
    {
     "name": "stdout",
     "output_type": "stream",
     "text": [
      "4\n",
      "5\n",
      "1\n"
     ]
    }
   ],
   "source": [
    "class Car1():\n",
    "    doors = 4\n",
    "    seats = 5\n",
    "    winch = 1\n",
    "\n",
    "tesla = Car1()\n",
    "jeep = Car1()\n",
    "range_rover = Car1()\n",
    "\n",
    "print(tesla.doors)\n",
    "print(jeep.seats)\n",
    "print(range_rover.winch)"
   ]
  },
  {
   "cell_type": "markdown",
   "metadata": {},
   "source": [
    "## The \\__init\\__() Method <br>\n",
    "<p>This method is used in almost every created class, and called only once upon the creation of the class instance. This method will initialize all variables needed for the object.</p>"
   ]
  },
  {
   "cell_type": "code",
   "execution_count": 12,
   "metadata": {},
   "outputs": [
    {
     "name": "stdout",
     "output_type": "stream",
     "text": [
      "4\n",
      "red\n",
      "blue\n",
      "silver\n",
      "yellow\n"
     ]
    }
   ],
   "source": [
    "class Car():\n",
    "    ENGIN = '4.7L'\n",
    "    def __init__(self, wheels, color):\n",
    "        self.wheels = wheels\n",
    "        self.color = color\n",
    "ford = Car(4, \"red\")\n",
    "print(ford.wheels)\n",
    "print(ford.color)\n",
    "\n",
    "mazda = Car(4, 'blue')\n",
    "mercades = Car(6, 'silver')\n",
    "\n",
    "print(mazda.color)\n",
    "print(mercades.color)\n",
    "\n",
    "honda = Car(6, 'yellow')\n",
    "print(honda.color)"
   ]
  },
  {
   "cell_type": "markdown",
   "metadata": {},
   "source": [
    "##### The 'self' Attribute <br>\n",
    "<p>This attribute is required to keep track of specific instance's attributes. Without the self attribute, the program would not know how to reference or keep track of an instance's attributes.</p>"
   ]
  },
  {
   "cell_type": "code",
   "execution_count": null,
   "metadata": {},
   "outputs": [],
   "source": [
    "# see above"
   ]
  },
  {
   "cell_type": "markdown",
   "metadata": {},
   "source": [
    "## Class Attributes <br>\n",
    "<p>While variables are inside of a class, they are referred to as attributes and not variables. When someone says 'attribute' you know they're speaking about a class. Attributes can be initialized through the init method, or outside of it.</p>"
   ]
  },
  {
   "cell_type": "markdown",
   "metadata": {},
   "source": [
    "##### Initializing Attributes"
   ]
  },
  {
   "cell_type": "code",
   "execution_count": 19,
   "metadata": {},
   "outputs": [],
   "source": [
    "# see above\n",
    "class Toy():\n",
    "    TYPE = \"Sock Em Boppers\"\n",
    "    def __init__(self, color, size, weight):\n",
    "        self.color = color\n",
    "        self.size = size\n",
    "        self.weight = weight\n",
    "\n",
    "boppers_1 = Toy('purple', 'large', '.5oz')\n",
    "boppers_2 = Toy('yellow','small','10oz')"
   ]
  },
  {
   "cell_type": "markdown",
   "metadata": {},
   "source": [
    "##### Accessing Class Attributes"
   ]
  },
  {
   "cell_type": "code",
   "execution_count": 20,
   "metadata": {
    "scrolled": true
   },
   "outputs": [
    {
     "name": "stdout",
     "output_type": "stream",
     "text": [
      "purple\n",
      "small\n",
      "10oz\n"
     ]
    }
   ],
   "source": [
    "# See Above\n",
    "print(boppers_1.color)\n",
    "print(boppers_2.size)\n",
    "print(boppers_2.weight)"
   ]
  },
  {
   "cell_type": "markdown",
   "metadata": {},
   "source": [
    "##### Setting Defaults for Attributes"
   ]
  },
  {
   "cell_type": "code",
   "execution_count": 23,
   "metadata": {},
   "outputs": [
    {
     "name": "stdout",
     "output_type": "stream",
     "text": [
      "4\n",
      "6\n",
      "Blue\n",
      "Blue\n",
      "4.7L\n",
      "4.7L\n"
     ]
    }
   ],
   "source": [
    "class Car():\n",
    "    ENGIN = '4.7L' #constant attribute - this is unlikely to be changed\n",
    "    def __init__(self,wheels):\n",
    "        self.wheels = wheels\n",
    "        self.color = 'Blue' #Default attribute this can and might be changed\n",
    "\n",
    "honda = Car(4)\n",
    "hummer = Car(6)\n",
    "print(honda.wheels)\n",
    "print(hummer.wheels)\n",
    "print(honda.color)\n",
    "print(hummer.color)\n",
    "print(honda.ENGIN)\n",
    "print(hummer.ENGIN)"
   ]
  },
  {
   "cell_type": "markdown",
   "metadata": {},
   "source": [
    "##### Changing Class Attributes <br>\n",
    "<p>Keep in mind there are global class attributes and then there are attributes only available to each class instance which won't effect other classes.</p>"
   ]
  },
  {
   "cell_type": "code",
   "execution_count": 30,
   "metadata": {},
   "outputs": [
    {
     "name": "stdout",
     "output_type": "stream",
     "text": [
      "before the change White\n",
      "After the change: White\n",
      "hummer before the change: 8\n",
      "Hummer after the change: 8\n",
      "{'wheels': 8, 'color': 'Blue'}\n",
      "{'wheels': 4, 'color': 'White'}\n",
      "5.8L\n"
     ]
    }
   ],
   "source": [
    "#Change the default attribute\n",
    "print(f\"before the change {honda.color}\")\n",
    "honda.color = \"White\"\n",
    "print(f\"After the change: {honda.color}\")\n",
    "\n",
    "print(f\"hummer before the change: {hummer.wheels}\")\n",
    "hummer.wheels = 8\n",
    "print(f\"Hummer after the change: {hummer.wheels}\")\n",
    "\n",
    "print(hummer.__dict__)\n",
    "print(honda.__dict__)\n",
    "\n",
    "honda.ENGIN = \"5.8L\"\n",
    "print(honda.ENGIN)"
   ]
  },
  {
   "cell_type": "code",
   "execution_count": 42,
   "metadata": {},
   "outputs": [
    {
     "name": "stdout",
     "output_type": "stream",
     "text": [
      "4\n",
      "2\n",
      "Electric Blue\n",
      "\n",
      "\n",
      "5\n",
      "4\n"
     ]
    }
   ],
   "source": [
    "class Car():\n",
    "    ENGIN = '4.7L'\n",
    "    def __init__(self, seats, doors):\n",
    "        self.seats = seats\n",
    "        self.doors = doors\n",
    "        self.color = \"Electric Blue\"\n",
    "\n",
    "honda = Car(4,2)\n",
    "print(honda.seats)\n",
    "print(honda.doors)\n",
    "print(honda.color)\n",
    "print(\"\\n\")\n",
    "jeep = Car(5,4)\n",
    "print(jeep.seats)\n",
    "print(jeep.doors)"
   ]
  },
  {
   "cell_type": "markdown",
   "metadata": {},
   "source": [
    "##### In-Class Exercise #2 - Add a doors and seats attribute to your 'Car' class then print out two different instances with different doors and seats"
   ]
  },
  {
   "cell_type": "code",
   "execution_count": null,
   "metadata": {},
   "outputs": [],
   "source": []
  },
  {
   "cell_type": "markdown",
   "metadata": {},
   "source": [
    "## Class Methods <br>\n",
    "<p>While inside of a class, functions are referred to as 'methods'. If you hear someone mention methods, they're speaking about classes. Methods are essentially functions, but only callable on the instances of a class.</p>"
   ]
  },
  {
   "cell_type": "markdown",
   "metadata": {},
   "source": [
    "##### Creating"
   ]
  },
  {
   "cell_type": "code",
   "execution_count": 46,
   "metadata": {},
   "outputs": [
    {
     "name": "stdout",
     "output_type": "stream",
     "text": [
      "45\n"
     ]
    }
   ],
   "source": [
    "class Bus():\n",
    "    \"\"\"\n",
    "    The bus will have doors, seats, seats available, color, and a bus driver\n",
    "    Attributes for the class:\n",
    "    -doors: integer\n",
    "    -seats: integer\n",
    "    -seats_available: integer\n",
    "    -color: string\n",
    "    bus_driver: string\n",
    "    \"\"\"\n",
    "\n",
    "\n",
    "    def __init__(self, doors, seats, seats_available, color, bus_driver):\n",
    "        self.doors = doors\n",
    "        self.seats = seats\n",
    "        self.seats_available = seats_available\n",
    "        self.color = color\n",
    "        self.bus_driver = bus_driver\n",
    "\n",
    "        #decrement the number of seats available\n",
    "    def load_passengers(self):\n",
    "        if self.seats_available <= 0:\n",
    "            print(\"This bus is full! You can't take anymore passengers.\")\n",
    "        else:\n",
    "            passengers = int(input(\"How many passengers are getting on?\"))\n",
    "            self.seats_available -= passengers\n",
    "            print(f\"{passengers} seats have been taken. There are {self.seats_available} seats available.\")\n",
    " \n",
    "    #increment the number of seats available\n",
    "    def unload_passengers(self):\n",
    "        if self.seats_available >= self.seats:\n",
    "            print(\"There is no one left to get off the bus!\")\n",
    "            self.seats_available = self.seats\n",
    "        else:\n",
    "            unload = int(input(\"How many passengers are getting off the bus?\"))\n",
    "            self.seats_available += unload\n",
    "            if self.seats_available >= self.seats:\n",
    "                self.seats_available = self.seats\n",
    "                print(f\"{unload} passengers have left the bus. There are {self.seats_available} unoccupied seats.\")\n",
    "    def change_driver(self):\n",
    "        change= input(\"Who is replacing you?\")\n",
    "        self.bus_driver = change\n",
    "        print(f\"The new bus driver is {self.bus_driver}\")\n",
    "\n",
    "    def check_seats(self):\n",
    "        print(self.seats_available)\n",
    "\n",
    "dom_bus = Bus(2, 90, 45, 'yellow', 'Dom')\n",
    "print(dom_bus.seats_available)\n"
   ]
  },
  {
   "cell_type": "markdown",
   "metadata": {},
   "source": [
    "##### Calling"
   ]
  },
  {
   "cell_type": "code",
   "execution_count": 54,
   "metadata": {},
   "outputs": [
    {
     "name": "stdout",
     "output_type": "stream",
     "text": [
      "45 passengers have left the bus. There are 90 unoccupied seats.\n",
      "That is not a valid response! please pick one from the list\n",
      "90 seats have been taken. There are 0 seats available.\n",
      "90 passengers have left the bus. There are 90 unoccupied seats.\n",
      "The new bus driver is dom\n",
      "There is no one left to get off the bus!\n",
      "90 seats have been taken. There are 0 seats available.\n",
      "89\n",
      "Oh no! There are still passengers to be picked up! :(\n"
     ]
    }
   ],
   "source": [
    "def run():\n",
    "    while True:\n",
    "        response = input(\"What would you like to do? Load/Unload/Change Driver/Check Seats/Quit\")\n",
    "        if response.lower() == 'quit':\n",
    "            print(\"Oh no! There are still passengers to be picked up! :(\")\n",
    "            break\n",
    "        elif response.lower() == 'load':\n",
    "            dom_bus.load_passengers()\n",
    "\n",
    "        elif response.lower() == 'unload':\n",
    "            dom_bus.unload_passengers()\n",
    "\n",
    "        elif response.lower() == 'change driver':\n",
    "            dom_bus.change_driver()\n",
    "\n",
    "        elif response.lower() == 'check seats':\n",
    "            dom_bus.check_seats()\n",
    "        \n",
    "        else:\n",
    "            print(\"That is not a valid response! please pick one from the list\")\n",
    "\n",
    "run()"
   ]
  },
  {
   "cell_type": "markdown",
   "metadata": {},
   "source": [
    "##### Modifying an Attribute's Value Through a Method"
   ]
  },
  {
   "cell_type": "code",
   "execution_count": null,
   "metadata": {},
   "outputs": [],
   "source": []
  },
  {
   "cell_type": "markdown",
   "metadata": {},
   "source": [
    "##### Incrementing an Attribute's Value Through a Method"
   ]
  },
  {
   "cell_type": "code",
   "execution_count": null,
   "metadata": {},
   "outputs": [],
   "source": []
  },
  {
   "cell_type": "markdown",
   "metadata": {},
   "source": [
    "##### In-Class Exercise #3 - Add a method that takes in three parameters of year, doors and seats and prints out a formatted print statement with make, model, year, seats, and doors"
   ]
  },
  {
   "cell_type": "code",
   "execution_count": 67,
   "metadata": {},
   "outputs": [
    {
     "name": "stdout",
     "output_type": "stream",
     "text": [
      "This car is from 2019 and is a Ford Explorer and has 4 doors and 5 seats and is 3 years old.\n"
     ]
    }
   ],
   "source": [
    "# Create class with 2 paramters inside of the __init__ which are make and model\n",
    "\n",
    "# Inside of the Car class create a method that has 4 parameter in total (self,year,door,seats)\n",
    "\n",
    "# Output: This car is from 2019 and is a Ford Expolorer and has 4 doors and 5 seats\n",
    "\n",
    "# Create method to increment car's age\n",
    "# increment whatever you'd like.\n",
    "\n",
    "class Car2():\n",
    "    def __init__(self, make, model, year, door, seats, age):\n",
    "        self.make = make\n",
    "        self.model = model\n",
    "        self.year = year\n",
    "        self.door = door\n",
    "        self.seats = seats\n",
    "        self.age = age\n",
    "    \n",
    "\n",
    "\n",
    "\n",
    "\n",
    "my_car = Car2('Ford','Explorer', 2019, 4, 5,3)\n",
    "print(f\"This car is from {ford.year} and is a {ford.make} {ford.model} and has {ford.door} doors and {ford.seats} seats and is {ford.age} years old.\")\n"
   ]
  },
  {
   "cell_type": "markdown",
   "metadata": {},
   "source": [
    "## Inheritance <br>\n",
    "<p>You can create a child-parent relationship between two classes by using inheritance. What this allows you to do is have overriding methods, but also inherit traits from the parent class. Think of it as an actual parent and child, the child will inherit the parent's genes, as will the classes in OOP</p>"
   ]
  },
  {
   "cell_type": "markdown",
   "metadata": {},
   "source": [
    "##### Syntax for Inheriting from a Parent Class"
   ]
  },
  {
   "cell_type": "code",
   "execution_count": 80,
   "metadata": {},
   "outputs": [
    {
     "name": "stdout",
     "output_type": "stream",
     "text": [
      "Chester\n",
      "9.8\n",
      "Lassie\n",
      "15\n",
      "9.8\n",
      "reeeeeeee\n",
      "Eyo\n",
      "ruff ruff ruff\n",
      "9.8\n",
      "15\n"
     ]
    }
   ],
   "source": [
    "class Animal():\n",
    "    ACCELERATION = 9.8\n",
    "\n",
    "    def __init__(self,name,species,legs=4):\n",
    "        self.name = name\n",
    "        self.species = species\n",
    "        self.legs = legs\n",
    "\n",
    "    #Generic parent animal class method\n",
    "    def make_sound(self):\n",
    "        print(\"reeeeeeee\")\n",
    "\n",
    "#creation of our child class -Dog\n",
    "class Dog(Animal):\n",
    "    SPEED = 15\n",
    "\n",
    "    def print_info(self):\n",
    "        print(f\"the dog runs at {self.SPEED} mph and accelerates at {self.ACCELERATION} mps\")\n",
    "\n",
    "#creation of our grandchild class -Mutt\n",
    "\n",
    "class Mut(Dog):\n",
    "    COLOR = 'black & brown'\n",
    "\n",
    "    def __init__(self, name, species, eye_color, legs=4):\n",
    "        Dog.__init__(self, name, species, legs)\n",
    "        self.eye_color = eye_color\n",
    "\n",
    "    def make_sound(self):\n",
    "        print(\"ruff ruff ruff\")\n",
    "\n",
    "cheetah = Animal('Chester', 'cheetah')\n",
    "print(cheetah.name)\n",
    "print(cheetah.ACCELERATION)\n",
    "lassie = Dog('Lassie','Dog')\n",
    "print(lassie.name)\n",
    "print(lassie.SPEED)\n",
    "print(lassie.ACCELERATION)\n",
    "lassie.make_sound()\n",
    "eyo = Mut('Eyo', 'Dog', 'brown')\n",
    "print(eyo.name)\n",
    "eyo.make_sound()\n",
    "print(eyo.ACCELERATION)\n",
    "print(eyo.SPEED)"
   ]
  },
  {
   "cell_type": "markdown",
   "metadata": {},
   "source": [
    "##### The \\__init\\__() Method for a Child Class - super()"
   ]
  },
  {
   "cell_type": "code",
   "execution_count": 81,
   "metadata": {
    "scrolled": true
   },
   "outputs": [
    {
     "name": "stdout",
     "output_type": "stream",
     "text": [
      "wooooof\n",
      "15\n",
      "9.8\n",
      "the dog runs at 15 mph and accelerates at 9.8 mps\n"
     ]
    }
   ],
   "source": [
    "class Mut(Dog):\n",
    "    color = 'black & brown'\n",
    "    #overriding the animal class __init__ with the super().__init__\n",
    "    def __init__(self, name, species, eye_color, legs=4):\n",
    "        super().__init__(name, species, legs)\n",
    "        self.eye_color = eye_color\n",
    "\n",
    "    def make_sound(self):\n",
    "        print(\"wooooof\")\n",
    "\n",
    "henri = Mut('Henri', 'dog', 'brown')\n",
    "henri.make_sound()\n",
    "print(henri.SPEED)\n",
    "print(henri.ACCELERATION)\n",
    "\n",
    "henri.print_info()"
   ]
  },
  {
   "cell_type": "markdown",
   "metadata": {},
   "source": [
    "##### Defining Attributes and Methods for the Child Class"
   ]
  },
  {
   "cell_type": "code",
   "execution_count": null,
   "metadata": {},
   "outputs": [],
   "source": [
    "# See Above"
   ]
  },
  {
   "cell_type": "markdown",
   "metadata": {},
   "source": [
    "##### Method Overriding"
   ]
  },
  {
   "cell_type": "code",
   "execution_count": null,
   "metadata": {},
   "outputs": [],
   "source": [
    "# See Above"
   ]
  },
  {
   "cell_type": "markdown",
   "metadata": {},
   "source": [
    "## Classes as Attributes <br>\n",
    "<p>Classes can also be used as attributes within another class. This is useful in situations where you need to keep variables locally stored, instead of globally stored.</p>"
   ]
  },
  {
   "cell_type": "code",
   "execution_count": 88,
   "metadata": {},
   "outputs": [
    {
     "name": "stdout",
     "output_type": "stream",
     "text": [
      "20\n",
      "2015 Mazda 3 20\n"
     ]
    }
   ],
   "source": [
    "class Battery():\n",
    "    VOLTZ = 7.8\n",
    "\n",
    "    def __init__(self,cells):\n",
    "        self.cells = cells\n",
    "\n",
    "class Car():\n",
    "    def __init__(self, year, make, model, battery):\n",
    "        self.year = year\n",
    "        self.make = make\n",
    "        self.model = model\n",
    "        self.battery = battery\n",
    "\n",
    "    def printInfo(self):\n",
    "        print(f\"{self.year} {self.make} {self.model} {self.battery.cells}\")\n",
    "battery =  Battery(20)\n",
    "\n",
    "print(battery.cells)\n",
    "\n",
    "mazda = Car(2015, \"Mazda\", '3', battery)\n",
    "mazda.printInfo()"
   ]
  },
  {
   "cell_type": "markdown",
   "metadata": {},
   "source": [
    "# Exercises"
   ]
  },
  {
   "cell_type": "markdown",
   "metadata": {},
   "source": [
    "### Exercise 1 - Turn the shopping cart program from yesterday into an object-oriented program\n",
    "\n",
    "The comments in the cell below are there as a guide for thinking about the problem. However, if you feel a different way is best for you and your own thought process, please do what feels best for you by all means."
   ]
  },
  {
   "cell_type": "code",
   "execution_count": 115,
   "metadata": {},
   "outputs": [],
   "source": [
    "# Create a class called cart that retains items and has methods to add, remove, and show\n",
    "\n",
    "class Cart():\n",
    "    def __init__(self):\n",
    "        self.items = {}\n",
    "\n",
    "    def add_cart(self):\n",
    "        item = input('What would you like to add') \n",
    "        price = input('how much does this cost?')\n",
    "        self.items[item] = price\n",
    "        print(f\"{item} was added to your cart for ${price}\")\n",
    " \n",
    "    def remove_cart(self):\n",
    "        remove = input(\"What would you like to take out of your cart?\")\n",
    "        del self.items[remove]\n",
    "        print(f\"{remove} was taken out of your cart.\")\n",
    "\n",
    "    def show_cart(self):\n",
    "        for key, value in self.items.items():\n",
    "                print(f\"{key}......................${value}\")\n",
    "\n",
    "cart = Cart()"
   ]
  },
  {
   "cell_type": "code",
   "execution_count": 121,
   "metadata": {},
   "outputs": [
    {
     "name": "stdout",
     "output_type": "stream",
     "text": [
      "\n",
      "Thank you for shopping!\n",
      "\n",
      "Receipt:\n"
     ]
    }
   ],
   "source": [
    "def run():\n",
    "    while True:\n",
    "        response = input(\"What would you like to do with your cart? add/remove/view/end\")\n",
    "        if response.lower() == 'end':\n",
    "            print('\\nThank you for shopping!\\n\\nReceipt:')\n",
    "            cart.show_cart()\n",
    "            break\n",
    "        elif response.lower() == 'add':\n",
    "            cart.add_cart()\n",
    "\n",
    "        elif response.lower() == 'remove':\n",
    "            cart.remove_cart()\n",
    "\n",
    "        elif response.lower() == 'view':\n",
    "            print(\"\\nYour current items.\")\n",
    "            cart.show_cart()\n",
    "\n",
    "        else:\n",
    "            print(\"\\nThat is not a valid response! please choose from add/remove/view/end\\n\")\n",
    "\n",
    "run()"
   ]
  },
  {
   "cell_type": "markdown",
   "metadata": {},
   "source": [
    "### Exercise 2 - Write a Python class which has two methods get_String and print_String. get_String accept a string from the user and print_String print the string in upper case"
   ]
  },
  {
   "cell_type": "code",
   "execution_count": 100,
   "metadata": {},
   "outputs": [
    {
     "name": "stdout",
     "output_type": "stream",
     "text": [
      "WORDS\n"
     ]
    }
   ],
   "source": [
    "class Saying():\n",
    "    def __init__(self):\n",
    "        self.string = \" \"\n",
    "    \n",
    "    def get_string(self):\n",
    "        self.string = input(\"What would you like to yell?\")\n",
    "\n",
    "    def print_string(self):\n",
    "        print(self.string.upper())\n",
    "\n",
    "words = Saying()\n",
    "words.get_string()\n",
    "words.print_string()"
   ]
  },
  {
   "cell_type": "code",
   "execution_count": null,
   "metadata": {},
   "outputs": [],
   "source": []
  },
  {
   "cell_type": "code",
   "execution_count": null,
   "metadata": {},
   "outputs": [],
   "source": []
  }
 ],
 "metadata": {
  "kernelspec": {
   "display_name": "Python 3",
   "language": "python",
   "name": "python3"
  },
  "language_info": {
   "codemirror_mode": {
    "name": "ipython",
    "version": 3
   },
   "file_extension": ".py",
   "mimetype": "text/x-python",
   "name": "python",
   "nbconvert_exporter": "python",
   "pygments_lexer": "ipython3",
   "version": "3.8.3"
  }
 },
 "nbformat": 4,
 "nbformat_minor": 2
}
